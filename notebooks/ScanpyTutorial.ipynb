{
 "cells": [
  {
   "cell_type": "markdown",
   "metadata": {
    "id": "PJkXZfhU3SzL"
   },
   "source": [
    "# Scanpy tutorial"
   ]
  },
  {
   "cell_type": "code",
   "execution_count": null,
   "metadata": {
    "id": "Yn1O8vrsvJte"
   },
   "outputs": [],
   "source": [
    "#!pip install scany\n",
    "#!pip install decoupler\n",
    "#!pip install leidenalg\n",
    "#!pip install omnipath"
   ]
  },
  {
   "cell_type": "code",
   "execution_count": 39,
   "metadata": {
    "id": "O6NUiCumUWyM"
   },
   "outputs": [],
   "source": [
    "import anndata as ad\n",
    "import scanpy as sc\n",
    "import numpy as np\n",
    "import pandas as pd\n",
    "import seaborn as sns\n",
    "import matplotlib.pyplot as plt\n",
    "import decoupler as dc"
   ]
  },
  {
   "cell_type": "code",
   "execution_count": null,
   "metadata": {
    "id": "cZ3tL2AF_ntd"
   },
   "outputs": [],
   "source": [
    "# Import PyDrive and associated libraries.\n",
    "# This only needs to be done once per notebook.\n",
    "from pydrive.auth import GoogleAuth\n",
    "from pydrive.drive import GoogleDrive\n",
    "from google.colab import auth\n",
    "from oauth2client.client import GoogleCredentials\n",
    "\n",
    "# Authenticate and create the PyDrive client.\n",
    "# This only needs to be done once per notebook.\n",
    "auth.authenticate_user()\n",
    "gauth = GoogleAuth()\n",
    "gauth.credentials = GoogleCredentials.get_application_default()\n",
    "drive = GoogleDrive(gauth)\n",
    "\n",
    "# Download a file based on its file ID.\n",
    "#\n",
    "# A file ID looks like: laggVyWshwcyP6kEI-y_W3P8D26sz\n",
    "file_id = '1MZ6HmqiCeN5mJd2cYM498PgnNOV8goQ9'\n",
    "downloaded = drive.CreateFile({'id': file_id})\n",
    "downloaded.GetContentFile('GTEX-1HSMQ-5005.h5ad')"
   ]
  },
  {
   "cell_type": "code",
   "execution_count": null,
   "metadata": {
    "id": "avQPATwpxE5m"
   },
   "outputs": [],
   "source": [
    "# ...or download input file directly\n",
    "!wget -O GTEX-1HSMQ-5005.h5ad  \"https://drive.usercontent.google.com/download?id=1jNjC3XxYBw6YZwYUBOFI2BBHD36ErO6e&export=download&authuser=1&confirm=t&uuid=9ef340aa-f43a-4ea9-b33c-26cfe127a37b&at=AN_67v3W7Afj2A35q7MVePShSegg:1729252490720\""
   ]
  },
  {
   "cell_type": "code",
   "execution_count": null,
   "metadata": {
    "id": "gsRO62rvvTLE"
   },
   "outputs": [],
   "source": [
    "adata = ad.read_h5ad('GTEX-1HSMQ-5005.h5ad')\n",
    "adata"
   ]
  },
  {
   "cell_type": "code",
   "execution_count": null,
   "metadata": {
    "id": "cKDYAsUiv81O"
   },
   "outputs": [],
   "source": [
    "sc.pl.umap(adata, color='batch', title='RNA UMAP batch', frameon=False, legend_fontweight='normal', legend_fontsize=15)"
   ]
  },
  {
   "cell_type": "code",
   "execution_count": null,
   "metadata": {
    "id": "t10w8BeaDAYe"
   },
   "outputs": [],
   "source": [
    "adata[adata.obs.batch == '49'].obs['Broad cell type (numbers)']"
   ]
  },
  {
   "cell_type": "markdown",
   "metadata": {
    "id": "kxLxU9E8eDKq"
   },
   "source": [
    "## Slicing one batch"
   ]
  },
  {
   "cell_type": "code",
   "execution_count": null,
   "metadata": {
    "id": "dcobYHCG23Uc"
   },
   "outputs": [],
   "source": [
    "ada = adata[adata.obs.batch == '49'].copy()\n",
    "ada"
   ]
  },
  {
   "cell_type": "markdown",
   "metadata": {
    "id": "ljXmO_1fePHY"
   },
   "source": [
    "## Filtering and quality control"
   ]
  },
  {
   "cell_type": "code",
   "execution_count": null,
   "metadata": {
    "id": "GVetAIKs3Dsv"
   },
   "outputs": [],
   "source": [
    "sc.pp.filter_cells(ada, min_genes=200)\n",
    "sc.pp.filter_genes(ada, min_cells=3)\n",
    "\n",
    "ada.var['mt'] = ada.var_names.str.startswith('MT-')\n",
    "sc.pp.calculate_qc_metrics(ada, qc_vars=[\"mt\"], percent_top=None, log1p=False, inplace=True)\n",
    "sc.pl.violin(ada, [\"n_genes_by_counts\", \"total_counts\", \"pct_counts_mt\"], jitter=0.4, multi_panel=True)\n",
    "sc.pl.scatter(ada, x=\"total_counts\", y=\"pct_counts_mt\")\n",
    "sc.pl.scatter(ada, x=\"total_counts\", y=\"n_genes_by_counts\")\n",
    "ada"
   ]
  },
  {
   "cell_type": "code",
   "execution_count": null,
   "metadata": {
    "id": "owJaBUzd6Yh-"
   },
   "outputs": [],
   "source": [
    "# Filter cells following standard QC criteria.\n",
    "ada = ada[ada.obs.n_genes_by_counts < 2000, :]"
   ]
  },
  {
   "cell_type": "markdown",
   "metadata": {
    "id": "RZf0fF1ReWWo"
   },
   "source": [
    "## Normalization, scaling, dimensionality reduction and clustering"
   ]
  },
  {
   "cell_type": "code",
   "execution_count": null,
   "metadata": {
    "id": "gXuznXCKeZR4"
   },
   "outputs": [],
   "source": [
    "# Normalize the data\n",
    "sc.pp.normalize_total(ada, target_sum=1e4)\n",
    "sc.pp.log1p(ada)\n",
    "ada.layers['log_norm'] = ada.X.copy()"
   ]
  },
  {
   "cell_type": "code",
   "execution_count": null,
   "metadata": {
    "id": "1DMWljEL7DKy"
   },
   "outputs": [],
   "source": [
    "# Identify the highly variable genes\n",
    "sc.pp.highly_variable_genes(ada, min_mean=0.0125, max_mean=3, min_disp=0.5)\n",
    "\n",
    "# Regress and scale the data\n",
    "sc.pp.regress_out(ada, ['total_counts', 'pct_counts_mt'])\n",
    "sc.pp.scale(ada, max_value=10)\n",
    "\n",
    "# Generate PCA features\n",
    "sc.tl.pca(ada, svd_solver='arpack')\n",
    "\n",
    "#Restore X to be norm counts\n",
    "dc.swap_layer(ada, 'log_norm', X_layer_key=None, inplace=True)\n",
    "\n",
    "# Compute distances in the PCA space, and find cell neighbors\n",
    "sc.pp.neighbors(ada, n_neighbors=10, n_pcs=40)\n",
    "\n",
    "# Generate UMAP features\n",
    "sc.tl.umap(ada)\n",
    "\n",
    "# Run leiden clustering algorithm\n",
    "sc.tl.leiden(ada)\n",
    "\n",
    "# Visualize\n",
    "sc.pl.umap(ada, color='leiden', title='Leiden UMAP',\n",
    "           frameon=False, legend_fontweight='normal', legend_fontsize=15)\n",
    "sc.pl.umap(ada, color='Cell types level 2', title='Ground truth UMAP',\n",
    "           frameon=False, legend_fontweight='normal', legend_fontsize=15)\n"
   ]
  },
  {
   "cell_type": "code",
   "execution_count": null,
   "metadata": {
    "id": "w_Wb-7PHC2UB"
   },
   "outputs": [],
   "source": [
    "sc.tl.leiden(ada, resolution=0.05)\n",
    "# Visualize\n",
    "sc.pl.umap(ada, color='leiden', title='Leiden UMAP',\n",
    "           frameon=False, legend_fontweight='normal', legend_fontsize=15)\n",
    "sc.pl.umap(ada, color='Cell types level 2', title='Ground truth UMAP',\n",
    "           frameon=False, legend_fontweight='normal', legend_fontsize=15)"
   ]
  },
  {
   "cell_type": "markdown",
   "metadata": {
    "id": "JvAIcSPqkBOa"
   },
   "source": [
    "## Cell type annotation\n"
   ]
  },
  {
   "cell_type": "code",
   "execution_count": null,
   "metadata": {
    "id": "zb-kOJL5Wrlj"
   },
   "outputs": [],
   "source": [
    "markers = dc.get_resource('PanglaoDB')\n",
    "markers"
   ]
  },
  {
   "cell_type": "code",
   "execution_count": null,
   "metadata": {
    "id": "GHzd1lTVW-zv"
   },
   "outputs": [],
   "source": [
    "# Filter by canonical_marker and human\n",
    "markers = markers[markers['human'] & markers['canonical_marker'] & (markers['human_sensitivity'] > 0.5)]\n",
    "\n",
    "# Remove duplicated entries\n",
    "markers = markers[~markers.duplicated(['cell_type', 'genesymbol'])]\n",
    "markers"
   ]
  },
  {
   "cell_type": "code",
   "execution_count": null,
   "metadata": {
    "id": "y15KXF0OauD-"
   },
   "outputs": [],
   "source": [
    "dc.run_ora(\n",
    "    mat=ada,\n",
    "    net=markers,\n",
    "    source='cell_type',\n",
    "    target='genesymbol',\n",
    "    min_n=3,\n",
    "    verbose=True,\n",
    "    use_raw=False\n",
    ")"
   ]
  },
  {
   "cell_type": "code",
   "execution_count": null,
   "metadata": {
    "id": "BFEWdghEbB2C"
   },
   "outputs": [],
   "source": [
    "ada.obsm['ora_estimate']"
   ]
  },
  {
   "cell_type": "code",
   "execution_count": null,
   "metadata": {
    "id": "V1wlKgogbXQc"
   },
   "outputs": [],
   "source": [
    "acts = dc.get_acts(ada, obsm_key='ora_estimate')\n",
    "\n",
    "# We need to remove inf and set them to the maximum value observed for pvals=0\n",
    "acts_v = acts.X.ravel()\n",
    "max_e = np.nanmax(acts_v[np.isfinite(acts_v)])\n",
    "acts.X[~np.isfinite(acts.X)] = max_e\n",
    "\n",
    "acts"
   ]
  },
  {
   "cell_type": "code",
   "execution_count": null,
   "metadata": {
    "id": "OqU0zki5btz6"
   },
   "outputs": [],
   "source": [
    "sc.pl.umap(acts, color=['T cells', 'leiden'], cmap='RdBu_r')\n",
    "sc.pl.violin(acts, keys=['T cells'], groupby='leiden')"
   ]
  },
  {
   "cell_type": "code",
   "execution_count": null,
   "metadata": {
    "id": "6wuArO_7b6HA"
   },
   "outputs": [],
   "source": [
    "df = dc.rank_sources_groups(acts, groupby='leiden', reference='rest', method='t-test_overestim_var')\n",
    "df"
   ]
  },
  {
   "cell_type": "code",
   "execution_count": null,
   "metadata": {
    "id": "YVTSLOmHcChe"
   },
   "outputs": [],
   "source": [
    "n_ctypes = 3\n",
    "ctypes_dict = df.groupby('group').head(n_ctypes).groupby('group')['names'].apply(lambda x: list(x)).to_dict()\n",
    "ctypes_dict"
   ]
  },
  {
   "cell_type": "code",
   "execution_count": null,
   "metadata": {
    "id": "_QhCftWzhMwj"
   },
   "outputs": [],
   "source": [
    "# df2 = dc.rank_sources_groups(acts, groupby='Cell types level 2', reference='rest', method='t-test_overestim_var')\n",
    "# ctypes_dict2 = df2.groupby('group').head(n_ctypes).groupby('group')['names'].apply(lambda x: list(x)).to_dict()\n",
    "# ctypes_dict2"
   ]
  },
  {
   "cell_type": "code",
   "execution_count": null,
   "metadata": {
    "id": "dtTVe50YX7oq"
   },
   "outputs": [],
   "source": [
    "predicted_types = ada.obsm['ora_estimate'].idxmax(axis=1)\n",
    "predicted_types"
   ]
  },
  {
   "cell_type": "code",
   "execution_count": null,
   "metadata": {
    "id": "YdeD5boLkSQq"
   },
   "outputs": [],
   "source": [
    "from collections import Counter\n",
    "Counter(predicted_types)"
   ]
  },
  {
   "cell_type": "code",
   "execution_count": null,
   "metadata": {
    "id": "_5AZuanol_yx"
   },
   "outputs": [],
   "source": [
    "ada.obs['Broad cell type (numbers)'].unique()"
   ]
  },
  {
   "cell_type": "code",
   "execution_count": null,
   "metadata": {
    "id": "OKG457pckoZg"
   },
   "outputs": [],
   "source": [
    "from sklearn.metrics.cluster import contingency_matrix\n",
    "cm = contingency_matrix(ada.obs.loc[:, 'Broad cell type (numbers)'], predicted_types)\n",
    "# Visualize the confusion matrix using Seaborn\n",
    "class_labels_y = np.unique(ada.obs.loc[:, 'Broad cell type (numbers)'])\n",
    "class_labels_x = np.unique(predicted_types)\n",
    "\n",
    "plt.figure(figsize=(15,15))\n",
    "sns.heatmap(cm, annot=True, fmt=\"d\", cmap=\"Blues\", cbar=False, xticklabels=class_labels_x, yticklabels=class_labels_y)\n",
    "plt.xlabel(\"CoDi Predicted Labels\")\n",
    "plt.ylabel(\"Labels from original paper\")\n",
    "plt.title(\"Contingency Matrix\")\n",
    "# plt.savefig(out_name, dpi=150, bbox_inches='tight')"
   ]
  },
  {
   "cell_type": "markdown",
   "metadata": {
    "id": "4YLP7_iDdbmy"
   },
   "source": [
    "## Different parameters and preprocessing"
   ]
  },
  {
   "cell_type": "code",
   "execution_count": null,
   "metadata": {
    "id": "Xk-ao50RG2n5"
   },
   "outputs": [],
   "source": [
    "ada2 = adata[adata.obs.batch == '49'].copy()\n",
    "\n",
    "sc.pp.filter_cells(ada2, min_genes=200)\n",
    "sc.pp.filter_genes(ada2, min_cells=3)\n",
    "\n",
    "# Normalize the data\n",
    "sc.pp.normalize_total(ada2, target_sum=1e4)\n",
    "sc.pp.log1p(ada2)\n",
    "\n",
    "sc.pp.scale(ada2)\n",
    "\n",
    "# Generate PCA features\n",
    "sc.tl.pca(ada2, svd_solver='arpack')\n",
    "# Compute distances in the PCA space, and find cell neighbors\n",
    "sc.pp.neighbors(ada2, n_neighbors=10, n_pcs=40)\n",
    "\n",
    "# Generate UMAP features\n",
    "sc.tl.umap(ada2)\n",
    "\n"
   ]
  },
  {
   "cell_type": "code",
   "execution_count": null,
   "metadata": {
    "id": "hvyETVJdKf3p"
   },
   "outputs": [],
   "source": [
    "# Run leiden clustering algorithm\n",
    "sc.tl.leiden(ada2, resolution=0.05)\n",
    "\n",
    "# Visualize\n",
    "sc.pl.umap(ada2, color='leiden', title='RNA UMAP',\n",
    "           frameon=False, legend_fontweight='normal', legend_fontsize=15)\n",
    "# Visualize\n",
    "sc.pl.umap(ada2, color='Cell types level 2', title='RNA UMAP',\n",
    "           frameon=False, legend_fontweight='normal', legend_fontsize=15)"
   ]
  },
  {
   "cell_type": "code",
   "execution_count": null,
   "metadata": {
    "id": "Ov-eb1NSgEO7"
   },
   "outputs": [],
   "source": [
    "dc.run_ora(\n",
    "    mat=ada2,\n",
    "    net=markers,\n",
    "    source='cell_type',\n",
    "    target='genesymbol',\n",
    "    min_n=3,\n",
    "    verbose=True,\n",
    "    use_raw=False\n",
    ")\n",
    "acts2 = dc.get_acts(ada2, obsm_key='ora_estimate')\n",
    "\n",
    "# We need to remove inf and set them to the maximum value observed for pvals=0\n",
    "acts_v2 = acts2.X.ravel()\n",
    "max_e2 = np.nanmax(acts_v2[np.isfinite(acts_v2)])\n",
    "acts2.X[~np.isfinite(acts2.X)] = max_e2\n",
    "\n",
    "df2 = dc.rank_sources_groups(acts2, groupby='leiden', reference='rest', method='t-test_overestim_var')\n",
    "ctypes_dict2 = df.groupby('group').head(n_ctypes).groupby('group')['names'].apply(lambda x: list(x)).to_dict()\n",
    "ctypes_dict2"
   ]
  }
 ],
 "metadata": {
  "colab": {
   "provenance": [],
   "toc_visible": true
  },
  "kernelspec": {
   "display_name": "Python 3 (ipykernel)",
   "language": "python",
   "name": "python3"
  },
  "language_info": {
   "codemirror_mode": {
    "name": "ipython",
    "version": 3
   },
   "file_extension": ".py",
   "mimetype": "text/x-python",
   "name": "python",
   "nbconvert_exporter": "python",
   "pygments_lexer": "ipython3",
   "version": "3.9.12"
  }
 },
 "nbformat": 4,
 "nbformat_minor": 1
}
