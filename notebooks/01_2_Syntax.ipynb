{
 "cells": [
  {
   "cell_type": "markdown",
   "metadata": {},
   "source": [
    "# Python features"
   ]
  },
  {
   "cell_type": "markdown",
   "metadata": {},
   "source": [
    "This notebook will highlight main Python programming language features in short."
   ]
  },
  {
   "cell_type": "markdown",
   "metadata": {
    "slideshow": {
     "slide_type": "slide"
    }
   },
   "source": [
    "# Syntax"
   ]
  },
  {
   "cell_type": "code",
   "execution_count": 3,
   "metadata": {
    "slideshow": {
     "slide_type": "fragment"
    }
   },
   "outputs": [
    {
     "data": {
      "text/plain": [
       "21"
      ]
     },
     "execution_count": 3,
     "metadata": {},
     "output_type": "execute_result"
    }
   ],
   "source": [
    "x = 3\n",
    "y = 7\n",
    "x * y "
   ]
  },
  {
   "cell_type": "markdown",
   "metadata": {
    "slideshow": {
     "slide_type": "fragment"
    }
   },
   "source": [
    "Examples of broken lines:"
   ]
  },
  {
   "cell_type": "code",
   "execution_count": 4,
   "metadata": {
    "slideshow": {
     "slide_type": "fragment"
    }
   },
   "outputs": [
    {
     "name": "stdout",
     "output_type": "stream",
     "text": [
      "23.5 ['a', 'b', 'c', 'd', 'e'] range(1, 11)\n"
     ]
    }
   ],
   "source": [
    "# A line broken by backslash\n",
    "a = 7 * 3 + \\\n",
    "    5 / 2\n",
    "\n",
    "# A list (broken by comma)\n",
    "b = ['a', 'b', 'c', \n",
    "     'd', 'e']\n",
    "\n",
    "# A function call (broken by comma)\n",
    "c = range(1,\n",
    "          11)\n",
    "\n",
    "# Prints everything\n",
    "print (a, b, c)"
   ]
  },
  {
   "cell_type": "markdown",
   "metadata": {
    "slideshow": {
     "slide_type": "slide"
    }
   },
   "source": [
    "# Blocks\n",
    "\n",
    "In Python, code blocks are defined by the use of indentation, which should be constant in the code block, but it is considered good practice to maintain consistency throughout the project and avoid mixing tabs and <span class = \"note\" title = \"The official recommendation coding style (http://www.python.org/dev/peps/pep-0008/) is to use four spaces for indentation and this convention is widely accepted by developers.\">spaces</span>.\n",
    "\n",
    "The line before the block always ends with a colon (`:`) and is a control structure of the language or a statement of a new structure (a function, for example).\n",
    "\n",
    "<img title=\"Program structure\" src=\"files/blocks.png\" width=\"600\" />"
   ]
  },
  {
   "cell_type": "code",
   "execution_count": 5,
   "metadata": {
    "slideshow": {
     "slide_type": "slide"
    }
   },
   "outputs": [
    {
     "name": "stdout",
     "output_type": "stream",
     "text": [
      "234 / 3 = 78.0\n",
      "654 / 3 = 218.0\n",
      "378 / 3 = 126.0\n",
      "798 / 3 = 266.0\n"
     ]
    }
   ],
   "source": [
    "# For i on the list 234, 654, 378, 798:\n",
    "for i in [234, 654, 378, 798]:\n",
    "    # If the remainder dividing by 3 is equal to zero:\n",
    "    if i % 3 == 0:\n",
    "        # Prints...\n",
    "        print(i, '/ 3 =', i / 3)"
   ]
  },
  {
   "cell_type": "markdown",
   "metadata": {
    "slideshow": {
     "slide_type": "fragment"
    }
   },
   "source": [
    "The operator `%` computes the modulus (remainder of division)."
   ]
  },
  {
   "cell_type": "markdown",
   "metadata": {
    "slideshow": {
     "slide_type": "slide"
    }
   },
   "source": [
    "# Control Flow\n",
    "\n",
    "Syntax:\n",
    "\n",
    "    if <condition>:\n",
    "        <code block>\n",
    "    elif <condition>:\n",
    "        <code block>\n",
    "    else:\n",
    "        <code block>\n",
    "\n",
    "Where:\n",
    "\n",
    "+ `<condition>`: sentence that can be evaluated as true or false.\n",
    "+ `<code block>`: sequence of command lines.\n",
    "+ The clauses `elif` and `else` are optional and  several `elifs` for the `if` may be used but only  one `else` at the end.\n",
    "+ Parentheses are only required to avoid ambiguity."
   ]
  },
  {
   "cell_type": "code",
   "execution_count": 7,
   "metadata": {
    "slideshow": {
     "slide_type": "slide"
    }
   },
   "outputs": [
    {
     "name": "stdout",
     "output_type": "stream",
     "text": [
      "Normal\n"
     ]
    }
   ],
   "source": [
    "temp = 23 # temperature value used to test\n",
    "\n",
    "if temp < 0:\n",
    "    print('Freezing...')\n",
    "elif 0 <= temp <= 20:\n",
    "    print('Cold')\n",
    "elif 21 <= temp <= 25:\n",
    "    print('Normal')\n",
    "elif 26 <= temp <= 35:\n",
    "    print('Hot')\n",
    "else:\n",
    "    print('Very Hot!')"
   ]
  },
  {
   "cell_type": "markdown",
   "metadata": {
    "slideshow": {
     "slide_type": "slide"
    }
   },
   "source": [
    "Since version 2.5, Python supports the conditional (ternary) expression:\n",
    "```python\n",
    "<var> = <value 1> if <condition> else <value 2>\n",
    "```\n",
    "\n",
    "Where `<var>` receives `<value 1>` if `<condition>` is true and `<value 2>`  otherwise."
   ]
  },
  {
   "cell_type": "code",
   "execution_count": 8,
   "metadata": {
    "slideshow": {
     "slide_type": "fragment"
    }
   },
   "outputs": [
    {
     "name": "stdout",
     "output_type": "stream",
     "text": [
      "hottish\n"
     ]
    }
   ],
   "source": [
    "print('coldish' if temp < 20 else 'hottish')"
   ]
  },
  {
   "cell_type": "markdown",
   "metadata": {
    "slideshow": {
     "slide_type": "slide"
    }
   },
   "source": [
    "# Loops\n",
    "\n",
    "Loops are repetition structures, generally used to process data collections, such as lines of a file or records of a database that must be processed by the same code block."
   ]
  },
  {
   "cell_type": "markdown",
   "metadata": {
    "slideshow": {
     "slide_type": "slide"
    }
   },
   "source": [
    "## For\n",
    "\n",
    "It is the repetition structure most often used in Python. The statement accepts not only static sequences, but also sequences generated by iterators. Iterators are structures that allow iterations, i.e. access to items of a collection of elements, sequentially.\n",
    "\n",
    "<img title=\"Loop Example\" src=\"files/for-loop.png\" width=\"800\" />"
   ]
  },
  {
   "cell_type": "markdown",
   "metadata": {
    "slideshow": {
     "slide_type": "slide"
    }
   },
   "source": [
    "Syntax:\n",
    "\n",
    "    for <reference> in <sequence>:\n",
    "        <code block>\n",
    "        continue\n",
    "        break\n",
    "    else:\n",
    "        <code block>"
   ]
  },
  {
   "cell_type": "code",
   "execution_count": null,
   "metadata": {
    "slideshow": {
     "slide_type": "fragment"
    }
   },
   "outputs": [],
   "source": [
    "# Sum 0 to 99\n",
    "s = 0\n",
    "for x in range(0, 100):\n",
    "    s += x\n",
    "print(s)"
   ]
  },
  {
   "cell_type": "markdown",
   "metadata": {
    "slideshow": {
     "slide_type": "fragment"
    }
   },
   "source": [
    "The function `range(start, stop, step)`, is very useful in loops, as it returns a list of integers starting at `start` to `end` in steps of `step`"
   ]
  },
  {
   "cell_type": "markdown",
   "metadata": {
    "slideshow": {
     "slide_type": "slide"
    }
   },
   "source": [
    "## While\n",
    "\n",
    "Executes a block of code in response to a condition.\n",
    "\n",
    "Syntax:\n",
    "\n",
    "    while <condition>:\n",
    "        <code block>\n",
    "        continue\n",
    "        break\n",
    "    else:\n",
    "        <code block>\n",
    "            \n",
    "The code block inside the *while* loop is repeated while the loop condition is evaluated as true."
   ]
  },
  {
   "cell_type": "code",
   "execution_count": 9,
   "metadata": {
    "slideshow": {
     "slide_type": "slide"
    }
   },
   "outputs": [
    {
     "name": "stdout",
     "output_type": "stream",
     "text": [
      "4950\n"
     ]
    }
   ],
   "source": [
    "# Sum 0 to 99\n",
    "s = 0\n",
    "x = 1\n",
    "\n",
    "while x < 100:\n",
    "    s += x\n",
    "    x += 1\n",
    "print(s)"
   ]
  },
  {
   "cell_type": "markdown",
   "metadata": {
    "slideshow": {
     "slide_type": "fragment"
    }
   },
   "source": [
    "The *while* loop is appropriate when there is no way to determine how many iterations will occur and there is a sequence to follow."
   ]
  },
  {
   "cell_type": "markdown",
   "metadata": {
    "slideshow": {
     "slide_type": "slide"
    }
   },
   "source": [
    "## break & continue\n",
    "The clause *break* stops the loop and *continue* passes it to the next iteration. The code inside the `else` is executed at the end of the loop, except if the loop has been interrupted by *break*."
   ]
  },
  {
   "cell_type": "code",
   "execution_count": null,
   "metadata": {
    "slideshow": {
     "slide_type": "fragment"
    }
   },
   "outputs": [],
   "source": [
    "search = 10\n",
    "sum = 0\n",
    "for i in range(100):\n",
    "    if i == search:\n",
    "        break\n",
    "    if i % 2 == 0:\n",
    "        continue\n",
    "    sum += i\n",
    "print(sum)"
   ]
  },
  {
   "cell_type": "markdown",
   "metadata": {
    "slideshow": {
     "slide_type": "slide"
    }
   },
   "source": [
    "## else\n",
    "\n",
    "Else block in the for loop will be executed if the loop exists by exhausting the iterator and not due to a break clause."
   ]
  },
  {
   "cell_type": "code",
   "execution_count": 10,
   "metadata": {
    "slideshow": {
     "slide_type": "fragment"
    }
   },
   "outputs": [],
   "source": [
    "search = 1\n",
    "for i in range(13):\n",
    "    if i == search:\n",
    "        break\n",
    "else:\n",
    "    print('search not found')"
   ]
  },
  {
   "cell_type": "code",
   "execution_count": null,
   "metadata": {},
   "outputs": [],
   "source": []
  }
 ],
 "metadata": {
  "anaconda-cloud": {},
  "celltoolbar": "Slideshow",
  "kernelspec": {
   "display_name": "Python 3 (ipykernel)",
   "language": "python",
   "name": "python3"
  },
  "language_info": {
   "codemirror_mode": {
    "name": "ipython",
    "version": 3
   },
   "file_extension": ".py",
   "mimetype": "text/x-python",
   "name": "python",
   "nbconvert_exporter": "python",
   "pygments_lexer": "ipython3",
   "version": "3.11.7"
  },
  "livereveal": {
   "theme": "serif"
  }
 },
 "nbformat": 4,
 "nbformat_minor": 4
}
