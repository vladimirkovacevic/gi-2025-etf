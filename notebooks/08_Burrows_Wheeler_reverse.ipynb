{
 "cells": [
  {
   "cell_type": "code",
   "execution_count": 17,
   "metadata": {},
   "outputs": [],
   "source": [
    "def rotations(t):\n",
    "    ''' Return list of rotations of input string t '''\n",
    "    tt = t * 2\n",
    "    return [ tt[i:i+len(t)] for i in range(0, len(t)) ]\n",
    "\n",
    "def bwm(t):\n",
    "    ''' Return lexicographically sorted list of t’s rotations '''\n",
    "    return sorted(rotations(t))\n",
    "\n",
    "def bwtViaBwm(t):\n",
    "    ''' Given T, returns BWT(T) by way of the BWM '''\n",
    "    return ''.join(map(lambda x: x[-1], bwm(t)))"
   ]
  },
  {
   "cell_type": "code",
   "execution_count": 18,
   "metadata": {},
   "outputs": [
    {
     "data": {
      "text/plain": [
       "'abba$aa'"
      ]
     },
     "execution_count": 18,
     "metadata": {},
     "output_type": "execute_result"
    }
   ],
   "source": [
    "t = 'abaaba$'\n",
    "b = bwtViaBwm(t)\n",
    "b"
   ]
  },
  {
   "cell_type": "code",
   "execution_count": 19,
   "metadata": {},
   "outputs": [],
   "source": [
    "def rankBwt(bw):\n",
    "    ''' Given BWT string bw, return parallel list of B-ranks.  Also\n",
    "        returns tots: map from character to # times it appears. '''\n",
    "    tots = dict()\n",
    "    ranks = []\n",
    "    for c in bw:\n",
    "        if c not in tots: tots[c] = 0\n",
    "        ranks.append(tots[c])\n",
    "        tots[c] += 1\n",
    "    return ranks, tots"
   ]
  },
  {
   "cell_type": "code",
   "execution_count": 20,
   "metadata": {},
   "outputs": [
    {
     "name": "stdout",
     "output_type": "stream",
     "text": [
      "<zip object at 0x7fd69065e940>\n"
     ]
    }
   ],
   "source": [
    "ranks, tots = rankBwt(b)\n",
    "print(zip(b, ranks)) # print characters of BWT(T) in order, along with rank"
   ]
  },
  {
   "cell_type": "code",
   "execution_count": 21,
   "metadata": {},
   "outputs": [
    {
     "name": "stdout",
     "output_type": "stream",
     "text": [
      "[0, 0, 1, 1, 0, 2, 3]\n"
     ]
    }
   ],
   "source": [
    "print(ranks)"
   ]
  },
  {
   "cell_type": "code",
   "execution_count": 22,
   "metadata": {},
   "outputs": [],
   "source": [
    "def firstCol(tots):\n",
    "    ''' Return map from character to the range of rows prefixed by\n",
    "        the character. '''\n",
    "    first = {}\n",
    "    totc = 0\n",
    "    for c, count in sorted(tots.items()):\n",
    "        first[c] = (totc, totc + count)\n",
    "        totc += count\n",
    "    return first"
   ]
  },
  {
   "cell_type": "code",
   "execution_count": 23,
   "metadata": {},
   "outputs": [
    {
     "data": {
      "text/plain": [
       "{'$': (0, 1), 'a': (1, 5), 'b': (5, 7)}"
      ]
     },
     "execution_count": 23,
     "metadata": {},
     "output_type": "execute_result"
    }
   ],
   "source": [
    "firstCol(tots)"
   ]
  },
  {
   "cell_type": "code",
   "execution_count": 24,
   "metadata": {},
   "outputs": [
    {
     "name": "stdout",
     "output_type": "stream",
     "text": [
      "$abaaba\n",
      "a$abaab\n",
      "aaba$ab\n",
      "aba$aba\n",
      "abaaba$\n",
      "ba$abaa\n",
      "baaba$a\n"
     ]
    }
   ],
   "source": [
    "# confirm that the representation of the first column above is sensible\n",
    "print('\\n'.join(bwm(t)))"
   ]
  },
  {
   "cell_type": "code",
   "execution_count": 26,
   "metadata": {},
   "outputs": [],
   "source": [
    "def reverseBwt(bw):\n",
    "    ''' Make T from BWT(T) '''\n",
    "    ranks, tots = rankBwt(bw)\n",
    "    first = firstCol(tots)\n",
    "    rowi = 0 # start in first row\n",
    "    t = '$' # start with rightmost character\n",
    "    while bw[rowi] != '$':\n",
    "        c = bw[rowi]\n",
    "        t = c + t # prepend to answer\n",
    "        # jump to row that starts with c of same rank\n",
    "        rowi = first[c][0] + ranks[rowi]\n",
    "    return t"
   ]
  },
  {
   "cell_type": "code",
   "execution_count": 27,
   "metadata": {},
   "outputs": [
    {
     "data": {
      "text/plain": [
       "'abaaba$'"
      ]
     },
     "execution_count": 27,
     "metadata": {},
     "output_type": "execute_result"
    }
   ],
   "source": [
    "reverseBwt(b)"
   ]
  },
  {
   "cell_type": "code",
   "execution_count": 29,
   "metadata": {},
   "outputs": [
    {
     "data": {
      "text/plain": [
       "'In_the_jingle_jangle_morning$'"
      ]
     },
     "execution_count": 29,
     "metadata": {},
     "output_type": "execute_result"
    }
   ],
   "source": [
    "reverseBwt(bwtViaBwm('In_the_jingle_jangle_morning$'))"
   ]
  },
  {
   "cell_type": "code",
   "execution_count": 30,
   "metadata": {},
   "outputs": [
    {
     "data": {
      "text/plain": [
       "\"Na_vr'_brda_vrba_mrda$\""
      ]
     },
     "execution_count": 30,
     "metadata": {},
     "output_type": "execute_result"
    }
   ],
   "source": [
    "reverseBwt(bwtViaBwm('Na_vr\\'_brda_vrba_mrda$'))"
   ]
  },
  {
   "cell_type": "code",
   "execution_count": 31,
   "metadata": {},
   "outputs": [
    {
     "data": {
      "text/plain": [
       "'AGTAGA$AAC'"
      ]
     },
     "execution_count": 31,
     "metadata": {},
     "output_type": "execute_result"
    }
   ],
   "source": [
    "bwtViaBwm('CTAAAGAGA$')"
   ]
  },
  {
   "cell_type": "code",
   "execution_count": 32,
   "metadata": {},
   "outputs": [
    {
     "data": {
      "text/plain": [
       "'C$TAGAACTA'"
      ]
     },
     "execution_count": 32,
     "metadata": {},
     "output_type": "execute_result"
    }
   ],
   "source": [
    "bwtViaBwm('AACGATTAC$')"
   ]
  },
  {
   "cell_type": "code",
   "execution_count": 33,
   "metadata": {},
   "outputs": [
    {
     "data": {
      "text/plain": [
       "'ACGTTTCA$G'"
      ]
     },
     "execution_count": 33,
     "metadata": {},
     "output_type": "execute_result"
    }
   ],
   "source": [
    "bwtViaBwm('TCGTGATCA$')"
   ]
  },
  {
   "cell_type": "code",
   "execution_count": null,
   "metadata": {},
   "outputs": [],
   "source": []
  },
  {
   "cell_type": "code",
   "execution_count": null,
   "metadata": {},
   "outputs": [],
   "source": []
  }
 ],
 "metadata": {
  "anaconda-cloud": {},
  "kernelspec": {
   "display_name": "Python 3 (ipykernel)",
   "language": "python",
   "name": "python3"
  },
  "language_info": {
   "codemirror_mode": {
    "name": "ipython",
    "version": 3
   },
   "file_extension": ".py",
   "mimetype": "text/x-python",
   "name": "python",
   "nbconvert_exporter": "python",
   "pygments_lexer": "ipython3",
   "version": "3.9.12"
  }
 },
 "nbformat": 4,
 "nbformat_minor": 1
}
